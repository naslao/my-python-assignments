{
  "cells": [
    {
      "cell_type": "code",
      "execution_count": null,
      "metadata": {
        "colab": {
          "base_uri": "https://localhost:8080/"
        },
        "id": "n97MRJwMwpOU",
        "outputId": "87a832d7-ebee-4517-8383-36943e671490"
      },
      "outputs": [
        {
          "name": "stdout",
          "output_type": "stream",
          "text": [
            "Downloading data from https://storage.googleapis.com/tensorflow/tf-keras-datasets/train-labels-idx1-ubyte.gz\n",
            "29515/29515 [==============================] - 0s 0us/step\n",
            "Downloading data from https://storage.googleapis.com/tensorflow/tf-keras-datasets/train-images-idx3-ubyte.gz\n",
            "26421880/26421880 [==============================] - 0s 0us/step\n",
            "Downloading data from https://storage.googleapis.com/tensorflow/tf-keras-datasets/t10k-labels-idx1-ubyte.gz\n",
            "5148/5148 [==============================] - 0s 0us/step\n",
            "Downloading data from https://storage.googleapis.com/tensorflow/tf-keras-datasets/t10k-images-idx3-ubyte.gz\n",
            "4422102/4422102 [==============================] - 0s 0us/step\n"
          ]
        },
        {
          "data": {
            "text/plain": [
              "<module 'keras.api._v2.keras.datasets.fashion_mnist' from '/usr/local/lib/python3.10/dist-packages/keras/api/_v2/keras/datasets/fashion_mnist/__init__.py'>"
            ]
          },
          "execution_count": 1,
          "metadata": {},
          "output_type": "execute_result"
        }
      ],
      "source": [
        "import tensorflow as tf\n",
        "import numpy as np\n",
        "import matplotlib.pyplot as plt\n",
        "\n",
        "#READ CSV FILE\n",
        "\n",
        "fashion_mnist = tf.keras.datasets.fashion_mnist\n",
        "(X_train, y_train), (X_test, y_test) = fashion_mnist.load_data()\n",
        "\n",
        "fashion_mnist\n",
        "\n"
      ]
    },
    {
      "cell_type": "code",
      "execution_count": 2,
      "metadata": {
        "id": "jZqA2C7WxfZs"
      },
      "outputs": [],
      "source": [
        "X_train, X_test = X_train / 255.0, X_test / 255.0\n",
        "\n",
        "\n",
        "class_labels = [\"T-shirt/top\", \"Trouser\", \"Pullover\", \"Dress\", \"Coat\", \"Sandal\", \"Shirt\", \"Sneaker\", \"Bag\", \"Ankle boot\"]\n"
      ]
    },
    {
      "cell_type": "code",
      "execution_count": 3,
      "metadata": {
        "id": "TUFxBTe1xhBJ"
      },
      "outputs": [],
      "source": [
        "model = tf.keras.Sequential()\n",
        "model.add(tf.keras.layers.Conv2D(filters=60, kernel_size=2, padding='same', activation='relu', input_shape=(28,28,1)))\n",
        "model.add(tf.keras.layers.MaxPooling2D(pool_size=2))\n",
        "model.add(tf.keras.layers.Dropout(0.3))\n",
        "model.add(tf.keras.layers.Conv2D(filters=120, kernel_size=2, padding='same', activation='relu'))\n",
        "model.add(tf.keras.layers.MaxPooling2D(pool_size=2))\n",
        "model.add(tf.keras.layers.Dropout(0.3))\n",
        "model.add(tf.keras.layers.Flatten())\n",
        "model.add(tf.keras.layers.Dense(180, activation='relu'))\n",
        "model.add(tf.keras.layers.Dropout(0.5))\n",
        "model.add(tf.keras.layers.Dense(10, activation='softmax'))\n"
      ]
    },
    {
      "cell_type": "code",
      "execution_count": 4,
      "metadata": {
        "colab": {
          "base_uri": "https://localhost:8080/"
        },
        "id": "F6a7SwbnB4l6",
        "outputId": "5079f81c-c778-43e3-8614-0fc175a2597c"
      },
      "outputs": [
        {
          "name": "stdout",
          "output_type": "stream",
          "text": [
            "Model: \"sequential\"\n",
            "_________________________________________________________________\n",
            " Layer (type)                Output Shape              Param #   \n",
            "=================================================================\n",
            " conv2d (Conv2D)             (None, 28, 28, 60)        300       \n",
            "                                                                 \n",
            " max_pooling2d (MaxPooling2  (None, 14, 14, 60)        0         \n",
            " D)                                                              \n",
            "                                                                 \n",
            " dropout (Dropout)           (None, 14, 14, 60)        0         \n",
            "                                                                 \n",
            " conv2d_1 (Conv2D)           (None, 14, 14, 120)       28920     \n",
            "                                                                 \n",
            " max_pooling2d_1 (MaxPoolin  (None, 7, 7, 120)         0         \n",
            " g2D)                                                            \n",
            "                                                                 \n",
            " dropout_1 (Dropout)         (None, 7, 7, 120)         0         \n",
            "                                                                 \n",
            " flatten (Flatten)           (None, 5880)              0         \n",
            "                                                                 \n",
            " dense (Dense)               (None, 180)               1058580   \n",
            "                                                                 \n",
            " dropout_2 (Dropout)         (None, 180)               0         \n",
            "                                                                 \n",
            " dense_1 (Dense)             (None, 10)                1810      \n",
            "                                                                 \n",
            "=================================================================\n",
            "Total params: 1089610 (4.16 MB)\n",
            "Trainable params: 1089610 (4.16 MB)\n",
            "Non-trainable params: 0 (0.00 Byte)\n",
            "_________________________________________________________________\n"
          ]
        }
      ],
      "source": [
        "model.summary()\n"
      ]
    },
    {
      "cell_type": "code",
      "execution_count": 5,
      "metadata": {
        "id": "_VwLeKGWxtJQ"
      },
      "outputs": [],
      "source": [
        "#CREATE MLP MODEL\n",
        "\n",
        "model.compile(optimizer='adam',\n",
        "              loss='sparse_categorical_crossentropy',\n",
        "              metrics=['accuracy'])\n",
        "\n",
        "\n"
      ]
    },
    {
      "cell_type": "code",
      "execution_count": 6,
      "metadata": {
        "colab": {
          "base_uri": "https://localhost:8080/"
        },
        "id": "AX2aGhn_zHp3",
        "outputId": "17d22828-deb3-4046-8215-4ba889f2dca8"
      },
      "outputs": [
        {
          "name": "stdout",
          "output_type": "stream",
          "text": [
            "Epoch 1/10\n",
            "1500/1500 [==============================] - 125s 83ms/step - loss: 0.5475 - accuracy: 0.8017 - val_loss: 0.3714 - val_accuracy: 0.8660\n",
            "Epoch 2/10\n",
            "1500/1500 [==============================] - 113s 75ms/step - loss: 0.3848 - accuracy: 0.8612 - val_loss: 0.3016 - val_accuracy: 0.8896\n",
            "Epoch 3/10\n",
            "1500/1500 [==============================] - 119s 79ms/step - loss: 0.3378 - accuracy: 0.8788 - val_loss: 0.2804 - val_accuracy: 0.8963\n",
            "Epoch 4/10\n",
            "1500/1500 [==============================] - 113s 75ms/step - loss: 0.3110 - accuracy: 0.8867 - val_loss: 0.2521 - val_accuracy: 0.9081\n",
            "Epoch 5/10\n",
            "1500/1500 [==============================] - 117s 78ms/step - loss: 0.2913 - accuracy: 0.8924 - val_loss: 0.2402 - val_accuracy: 0.9116\n",
            "Epoch 6/10\n",
            "1500/1500 [==============================] - 112s 75ms/step - loss: 0.2722 - accuracy: 0.9009 - val_loss: 0.2311 - val_accuracy: 0.9163\n",
            "Epoch 7/10\n",
            "1500/1500 [==============================] - 122s 81ms/step - loss: 0.2637 - accuracy: 0.9017 - val_loss: 0.2333 - val_accuracy: 0.9143\n",
            "Epoch 8/10\n",
            "1500/1500 [==============================] - 114s 76ms/step - loss: 0.2537 - accuracy: 0.9073 - val_loss: 0.2181 - val_accuracy: 0.9192\n",
            "Epoch 9/10\n",
            "1500/1500 [==============================] - 110s 73ms/step - loss: 0.2429 - accuracy: 0.9102 - val_loss: 0.2195 - val_accuracy: 0.9187\n",
            "Epoch 10/10\n",
            "1500/1500 [==============================] - 113s 75ms/step - loss: 0.2330 - accuracy: 0.9139 - val_loss: 0.2182 - val_accuracy: 0.9196\n"
          ]
        },
        {
          "data": {
            "text/plain": [
              "<keras.src.callbacks.History at 0x7eceae2235e0>"
            ]
          },
          "execution_count": 6,
          "metadata": {},
          "output_type": "execute_result"
        }
      ],
      "source": [
        "#EVALUATE THE MODEL\n",
        "\n",
        "model.fit(X_train, y_train, epochs=10, validation_split=0.2)\n",
        "\n"
      ]
    },
    {
      "cell_type": "code",
      "execution_count": 7,
      "metadata": {
        "colab": {
          "base_uri": "https://localhost:8080/"
        },
        "id": "f3KaqZuqyFUJ",
        "outputId": "e20519e4-55be-4faa-9307-c8d13c0c161f"
      },
      "outputs": [
        {
          "name": "stdout",
          "output_type": "stream",
          "text": [
            "Test accuracy: 0.9146000146865845\n"
          ]
        }
      ],
      "source": [
        "score = model.evaluate(X_test, y_test, verbose=0)\n",
        "\n",
        "print('Test accuracy:', score[1])\n"
      ]
    },
    {
      "cell_type": "code",
      "execution_count": 9,
      "metadata": {
        "colab": {
          "base_uri": "https://localhost:8080/"
        },
        "id": "IILaIsqFG0XZ",
        "outputId": "b69fbd6b-1d24-4f18-f0f2-98d967c247a6"
      },
      "outputs": [
        {
          "name": "stdout",
          "output_type": "stream",
          "text": [
            "1/1 [==============================] - 0s 111ms/step\n",
            "Predicted: class=9\n"
          ]
        }
      ],
      "source": [
        "from numpy import asarray\n",
        "from numpy import unique\n",
        "from numpy import argmax\n",
        "\n",
        "image = X_test[0]\n",
        "result = model.predict(asarray([image]))\n",
        "print('Predicted: class=%d' % argmax(result))\n"
      ]
    },
    {
      "cell_type": "code",
      "execution_count": 13,
      "metadata": {
        "colab": {
          "base_uri": "https://localhost:8080/",
          "height": 447
        },
        "id": "vhYCDRDNG98t",
        "outputId": "1ff431d2-a44d-4bf7-ffc0-29c6b2352975"
      },
      "outputs": [
        {
          "data": {
            "text/plain": [
              "<matplotlib.image.AxesImage at 0x7eceadffada0>"
            ]
          },
          "execution_count": 13,
          "metadata": {},
          "output_type": "execute_result"
        },
        {
          "data": {
            "image/png": "[encoded data removed]",
            "text/plain": [
              "<Figure size 640x480 with 1 Axes>"
            ]
          },
          "metadata": {},
          "output_type": "display_data"
        }
      ],
      "source": [
        "plt.imshow(X_test[6])\n"
      ]
    }
  ],
  "metadata": {
    "colab": {
      "provenance": []
    },
    "kernelspec": {
      "display_name": "Python 3",
      "name": "python3"
    },
    "language_info": {
      "name": "python"
    }
  },
  "nbformat": 4,
  "nbformat_minor": 0
}
